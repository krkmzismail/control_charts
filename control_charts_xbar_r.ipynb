{
 "cells": [
  {
   "cell_type": "markdown",
   "metadata": {},
   "source": [
    "# Controls charts—average and range (XbarR)"
   ]
  },
  {
   "cell_type": "markdown",
   "metadata": {},
   "source": [
    "# Document\n",
    "\n",
    "<table align=\"left\">\n",
    "    <tr>\n",
    "        <th class=\"text-align:left\">Title</th>\n",
    "        <td class=\"text-align:left\">Control charts---average and range (XBarR)</td>\n",
    "    </tr>\n",
    "    <tr>\n",
    "        <th class=\"text-align:left\">Last modified</th>\n",
    "        <td class=\"text-align:left\">2018-10-18</td>\n",
    "    </tr>\n",
    "    <tr>\n",
    "        <th class=\"text-align:left\">Author</th>\n",
    "        <td class=\"text-align:left\">Gilles Pilon <gillespilon13@gmail.com></td>\n",
    "    </tr>\n",
    "    <tr>\n",
    "        <th class=\"text-align:left\">Status</th>\n",
    "        <td class=\"text-align:left\">Active</td>\n",
    "    </tr>\n",
    "    <tr>\n",
    "        <th class=\"text-align:left\">Type</th>\n",
    "        <td class=\"text-align:left\">Jupyter notebook</td>\n",
    "    </tr>\n",
    "    <tr>\n",
    "        <th class=\"text-align:left\">Created</th>\n",
    "        <td class=\"text-align:left\">2017-09-03</td>\n",
    "    </tr>\n",
    "    <tr>\n",
    "        <th class=\"text-align:left\">File name</th>\n",
    "        <td class=\"text-align:left\">control_charts_xbarr.ipynb</td>\n",
    "    </tr>\n",
    "    <tr>\n",
    "        <th class=\"text-align:left\">Other files required</th>\n",
    "        <td class=\"text-align:left\">xbarr.csv</td>\n",
    "    </tr>\n",
    "</table>"
   ]
  },
  {
   "cell_type": "markdown",
   "metadata": {},
   "source": [
    "# In brevi\n",
    "Shewhart control charts, also called process behaviour charts, are used to determine if the variation of a process is stable and predictable, that is, in a state of statistical control. In-control variation arises from chance or common causes. No changes or adjustments to the process are needed. The charts can be used to predict future performance. Out-of-control variation arises from special or assignable causes. These charts help identify the special causes in order minimize or eliminate their effect."
   ]
  },
  {
   "cell_type": "markdown",
   "metadata": {},
   "source": [
    "# Data\n",
    "\n",
    "Download the [data file](https://drive.google.com/open?id=0BzrdQfHR2I5DdWpLOC1DSWltVzA). It consists of a \"Sample\" column and several \"Xi\" columns of floats or integers."
   ]
  },
  {
   "cell_type": "markdown",
   "metadata": {},
   "source": [
    "# Methodology\n",
    "The charts presented here are the average and range control charts, also called XbarR. The data are collected using rational samples. The average values of each subgroup sample are plotted in time order. A central line (average) and control limits above and below the central line are plotted."
   ]
  },
  {
   "cell_type": "markdown",
   "metadata": {},
   "source": [
    "# Control chart formulae"
   ]
  },
  {
   "cell_type": "markdown",
   "metadata": {},
   "source": [
    "## Average chart (X)"
   ]
  },
  {
   "cell_type": "markdown",
   "metadata": {},
   "source": [
    "$$\n",
    "    \\begin{align}\n",
    "        UCL_\\overline{X}, LCL_\\overline{X} & = \\overline{\\overline{X}} \\pm 3 \\times \\text{Sigma(}\\overline{X}\\text{)} \\\\\n",
    "                     & = \\overline{\\overline{X}} \\pm 3 \\times \\frac{\\text{Sigma(X) }}{\\sqrt{n}} \\\\\n",
    "                     & = \\overline{\\overline{X}} \\pm \\frac{3 \\text{ }\\overline{R}}{d_2 \\sqrt{n}}\n",
    "    \\end{align}\n",
    "$$\n",
    "\n",
    "The constant $d_2$ can be found in tables of control chart constants.It is a rescaling constant that changes an average range to a standard deviation. The value of $d_2$ is a function of the subgroup size $n$."
   ]
  },
  {
   "cell_type": "markdown",
   "metadata": {},
   "source": [
    "## Range chart (R)"
   ]
  },
  {
   "cell_type": "markdown",
   "metadata": {},
   "source": [
    "$$\n",
    "    \\begin{align}\n",
    "        UCL_R, LCL_R & = \\overline{R} \\pm 3 \\times \\text{Sigma(R)} \\\\\n",
    "                     & = \\overline{R} \\pm 3 \\times d_3 \\times \\text{Sigma(X)} \\\\\n",
    "                     & = \\overline{R} \\pm 3 \\times d_3 \\times \\frac{\\overline{R}}{d_2}\n",
    "    \\end{align}\n",
    "$$\n",
    "\n",
    "The constant $d_3$ can be found in tables of control chart constants. It is a rescaling constant that changes a a standard deviation of individual values to a standard deviation of range values. The value of $d_3$ is a function of subgroup size."
   ]
  },
  {
   "cell_type": "code",
   "execution_count": null,
   "metadata": {},
   "outputs": [],
   "source": [
    "# Import the required libraries and modules.\n",
    "import pandas as pd\n",
    "import math\n",
    "import datasense as ds\n",
    "%matplotlib inline\n",
    "%config InlineBackend.figure_format = 'svg'"
   ]
  },
  {
   "cell_type": "code",
   "execution_count": null,
   "metadata": {},
   "outputs": [],
   "source": [
    "# Read the csv data file. It is encoded in UTF-8.\n",
    "# The values to plot are in mupltiple columns X1, X2, ...\n",
    "# Set \"date\" as the index, if there is a \"date column\".\n",
    "#chart_data = pd.read_csv('xbarr.csv', parse_dates=True, \\\n",
    "#                          index_col='Date')\n",
    "chart_data = pd.read_csv('xbarr.csv', index_col='Sample')"
   ]
  },
  {
   "cell_type": "code",
   "execution_count": null,
   "metadata": {},
   "outputs": [],
   "source": [
    "# Define for the Xbar chart the graph title and subtitle, and the x and y axis labels.\n",
    "x_chart_title = 'Average Control Chart'\n",
    "x_chart_subtitle = 'Thickness'\n",
    "x_chart_ylabel = 'Thickness (mm)'\n",
    "x_chart_xlabel = 'Sample'\n",
    "subgroup_size = len(chart_data.columns)"
   ]
  },
  {
   "cell_type": "code",
   "execution_count": null,
   "metadata": {},
   "outputs": [],
   "source": [
    "# Determine d2 and d3 constants.\n",
    "constants = pd.read_csv('control_chart_constants.csv')\n",
    "d_two = constants['d2'][constants['n'] == subgroup_size].values[0]\n",
    "d_three = constants['d3'][constants['n'] == subgroup_size].values[0]"
   ]
  },
  {
   "cell_type": "code",
   "execution_count": null,
   "metadata": {},
   "outputs": [],
   "source": [
    "# Define for the R chart the graph title and subtitle,\n",
    "# and the x and y axis labels.\n",
    "r_chart_title = 'Range Control Chart'\n",
    "r_chart_subtitle = 'Thickness Range'\n",
    "r_chart_ylabel = 'Thickness Range (mm)'\n",
    "r_chart_xlabel = 'Sample'"
   ]
  },
  {
   "cell_type": "code",
   "execution_count": null,
   "metadata": {},
   "outputs": [],
   "source": [
    "# Create the X control chart.\n",
    "#x = ds.Xbar(chart_data.loc[:, 'X1':'X4']) # this works better for many columns\n",
    "x = ds.Xbar(chart_data[['X1', 'X2', 'X3', 'X4']])\n",
    "ax1 = x.ax\n",
    "ax1.set_title(x_chart_title + '\\n'+ x_chart_subtitle)\n",
    "ax1.set_ylabel(x_chart_ylabel)\n",
    "ax1.set_xlabel(x_chart_xlabel)\n",
    "ax1.figure.savefig('xbar.svg', format='svg')"
   ]
  },
  {
   "cell_type": "code",
   "execution_count": null,
   "metadata": {},
   "outputs": [],
   "source": [
    "# Create the mR control chart.\n",
    "#y = ds.Xbar(chart_data.loc[:, 'X1':'X4']) # this works better for many columns\n",
    "y = ds.R(chart_data[['X1', 'X2', 'X3', 'X4']])\n",
    "ax1 = y.ax\n",
    "ax1.set_title(r_chart_title + '\\n'+ r_chart_subtitle)\n",
    "ax1.set_ylabel(r_chart_ylabel)\n",
    "ax1.set_xlabel(r_chart_xlabel)\n",
    "ax1.figure.savefig('r.svg', format='svg')"
   ]
  },
  {
   "cell_type": "code",
   "execution_count": null,
   "metadata": {},
   "outputs": [],
   "source": [
    "# R chart statistics\n",
    "# Calculate average range\n",
    "average_range = (chart_data.max(axis='columns') - \n",
    "                 chart_data.min(axis='columns')).mean()\n",
    "# Calculate the range chart upper control limit.\n",
    "range_chart_upper_control_limit = average_range + \\\n",
    "    3 * d_three * average_range / d_two\n",
    "# Calculate the range chart lower control limit.\n",
    "range_chart_lower_control_limit = average_range - \\\n",
    "    3 * d_three * average_range / d_two\n",
    "# Set the moving range lower control limit to 0 if it is < 0.\n",
    "if range_chart_lower_control_limit < 0:\n",
    "    range_chart_lower_control_limit = 0.0"
   ]
  },
  {
   "cell_type": "code",
   "execution_count": null,
   "metadata": {},
   "outputs": [],
   "source": [
    "# Xbar chart statistics\n",
    "# Calculate average of averages.\n",
    "average_of_averages = (chart_data.mean(axis='columns')).mean()\n",
    "# Calculate the averages chart upper control limit.\n",
    "average_chart_upper_control_limit = average_of_averages + \\\n",
    "    3 * average_range / (d_two * math.sqrt(subgroup_size))\n",
    "# Calculate the averages chart lower control limit.\n",
    "average_chart_lower_control_limit = average_of_averages - \\\n",
    "    3 * average_range / (d_two * math.sqrt(subgroup_size))"
   ]
  },
  {
   "cell_type": "code",
   "execution_count": null,
   "metadata": {},
   "outputs": [],
   "source": [
    "# Create a graph of \"average values v. sample\".\n",
    "ax = chart_data.mean(axis='columns').plot.line(legend=False,\n",
    "                                               marker='o',\n",
    "                                               markersize=3,\n",
    "                                               color='blue')\n",
    "ax.axhline(y=average_of_averages, color='b')\n",
    "ax.axhline(y=average_chart_upper_control_limit, color='r')\n",
    "ax.axhline(y=average_chart_lower_control_limit, color='r')\n",
    "# Remove the top and right spines.\n",
    "for spine in 'right', 'top':\n",
    "    ax.spines[spine].set_color('none')\n",
    "# Add the chart title and subtitle.\n",
    "ax.set_title(x_chart_title + '\\n' + x_chart_subtitle)\n",
    "# Add the Y axis label.\n",
    "ax.set_ylabel(x_chart_ylabel)\n",
    "# Add the X axis label.\n",
    "ax.set_xlabel(x_chart_xlabel)\n",
    "# Save the graph as svg and pdf.\n",
    "ax.figure.savefig('xbar.svg', format='svg')"
   ]
  },
  {
   "cell_type": "code",
   "execution_count": null,
   "metadata": {},
   "outputs": [],
   "source": [
    "# Create a graph of \"range values v. sample\".\n",
    "ax = (chart_data.max(axis='columns') - \\\n",
    "      chart_data.min(axis='columns')).plot.line(legend=False,\n",
    "                                                marker='o',\n",
    "                                                markersize=3,\n",
    "                                                color='blue')\n",
    "ax.axhline(y=average_range, color='b')\n",
    "ax.axhline(y=range_chart_upper_control_limit, color='r')\n",
    "ax.axhline(y=range_chart_lower_control_limit, color='r')\n",
    "# Remove the top and right spines.\n",
    "for spine in 'right', 'top':\n",
    "    ax.spines[spine].set_color('none')\n",
    "# Add the chart title and subtitle.\n",
    "ax.set_title(r_chart_title + '\\n' + r_chart_subtitle)\n",
    "# Add the Y axis label.\n",
    "ax.set_ylabel(r_chart_ylabel)\n",
    "# Add the X axis label.\n",
    "ax.set_xlabel(r_chart_xlabel)\n",
    "# Save the graph as svg and pdf.\n",
    "ax.figure.savefig('r.svg', format='svg')"
   ]
  },
  {
   "cell_type": "markdown",
   "metadata": {},
   "source": [
    "# Descriptive statistics"
   ]
  },
  {
   "cell_type": "markdown",
   "metadata": {},
   "source": [
    "## Average control chart"
   ]
  },
  {
   "cell_type": "code",
   "execution_count": null,
   "metadata": {},
   "outputs": [],
   "source": [
    "print('Upper control limit',\n",
    "      average_chart_upper_control_limit,\n",
    "      sep=' = ')\n",
    "print('Average',\n",
    "      average_of_averages,\n",
    "      sep=' = ')\n",
    "print('Lower control limit',\n",
    "      average_chart_lower_control_limit,\n",
    "      sep=' = ')\n",
    "print('Sigma(Xbar)',\n",
    "      average_range / d_two / math.sqrt(subgroup_size),\n",
    "      sep=' = ')"
   ]
  },
  {
   "cell_type": "markdown",
   "metadata": {},
   "source": [
    "## Range control chart"
   ]
  },
  {
   "cell_type": "code",
   "execution_count": null,
   "metadata": {},
   "outputs": [],
   "source": [
    "print('Upper control limit',\n",
    "      range_chart_upper_control_limit.round(3),\n",
    "      sep=' = ')\n",
    "print('Average moving range',\n",
    "      average_range,\n",
    "      sep=' = ')\n",
    "print('Lower control limit',\n",
    "      range_chart_lower_control_limit,\n",
    "      sep=' = ')\n",
    "print('Sigma(R)',\n",
    "      average_range * d_three / d_two,\n",
    "      sep=' = ')"
   ]
  },
  {
   "cell_type": "markdown",
   "metadata": {},
   "source": [
    "# Interpretation"
   ]
  },
  {
   "cell_type": "markdown",
   "metadata": {},
   "source": [
    "## Moving range control chart\n",
    "The moving range chart measures the within-subroup variation. If the process is in statistical control (all rules met), the estimation of dispersion should be useful. This chart should be evaluated first because $\\overline{R}$ is used in the control limits of the individuals chart."
   ]
  },
  {
   "cell_type": "markdown",
   "metadata": {},
   "source": [
    "## Averages control chart\n",
    "The averages control chart measures the *location* of the process. Use the Shewhart detection rules in the order as follows."
   ]
  },
  {
   "cell_type": "markdown",
   "metadata": {},
   "source": [
    "### Detection rule one\n",
    "If there are no out-of-control points, proceed to the next rule. If there are out-of-control points, fix the root causes."
   ]
  },
  {
   "cell_type": "code",
   "execution_count": null,
   "metadata": {},
   "outputs": [],
   "source": [
    "# Find points greater than the upper control limit\n",
    "chart_data.loc[((chart_data.mean(axis='columns') >\n",
    "                 average_chart_upper_control_limit)), :]"
   ]
  },
  {
   "cell_type": "code",
   "execution_count": null,
   "metadata": {},
   "outputs": [],
   "source": [
    "# Find points less than the upper control limit\n",
    "chart_data.loc[((chart_data.mean(axis='columns') <\n",
    "                 average_chart_lower_control_limit)), :]"
   ]
  },
  {
   "cell_type": "markdown",
   "metadata": {},
   "source": [
    "### Detection rule four\n",
    "### Detection rule two\n",
    "### Detection rule three"
   ]
  },
  {
   "cell_type": "markdown",
   "metadata": {},
   "source": [
    "#  Development\n",
    "\n",
    "- Add text for Shewhart's or Nelson's Rules; define the rules\n",
    "- How do I determine T or F for each rule; loc or iloc\n",
    "- Code for rule 1"
   ]
  },
  {
   "cell_type": "markdown",
   "metadata": {},
   "source": [
    "# References\n",
    "\n",
    "Wheeler, Donald J. 1995. *Advanced Topics in Statistical Process Control*. Knoxville, TN: SPC Press, Inc."
   ]
  }
 ],
 "metadata": {
  "kernelspec": {
   "display_name": "Python 3",
   "language": "python",
   "name": "python3"
  },
  "language_info": {
   "codemirror_mode": {
    "name": "ipython",
    "version": 3
   },
   "file_extension": ".py",
   "mimetype": "text/x-python",
   "name": "python",
   "nbconvert_exporter": "python",
   "pygments_lexer": "ipython3",
   "version": "3.7.4"
  },
  "varInspector": {
   "cols": {
    "lenName": 16,
    "lenType": 16,
    "lenVar": 40
   },
   "kernels_config": {
    "python": {
     "delete_cmd_postfix": "",
     "delete_cmd_prefix": "del ",
     "library": "var_list.py",
     "varRefreshCmd": "print(var_dic_list())"
    },
    "r": {
     "delete_cmd_postfix": ") ",
     "delete_cmd_prefix": "rm(",
     "library": "var_list.r",
     "varRefreshCmd": "cat(var_dic_list()) "
    }
   },
   "types_to_exclude": [
    "module",
    "function",
    "builtin_function_or_method",
    "instance",
    "_Feature"
   ],
   "window_display": false
  }
 },
 "nbformat": 4,
 "nbformat_minor": 2
}
