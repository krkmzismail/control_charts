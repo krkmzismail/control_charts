{
 "cells": [
  {
   "cell_type": "markdown",
   "metadata": {},
   "source": [
    "# Controls charts&mdash;individual and moving range (XmR)"
   ]
  },
  {
   "cell_type": "markdown",
   "metadata": {},
   "source": [
    "# In brevi\n",
    "\n",
    "Shewhart control charts, also called process behaviour charts, are used to determine if the variation of a process is stable and predictable, that is, in a state of statistical control. In-control variation arises from chance or common causes. No changes or adjustments to the process are needed. The chart can be used to predict future performance. Out-of-control variation arises from special or assignable causes. These charts help identify the special causes in order minimize or eliminate their effect."
   ]
  },
  {
   "cell_type": "markdown",
   "metadata": {},
   "source": [
    "# Data\n",
    "\n",
    "Download the [data file](https://drive.google.com/open?id=0BzrdQfHR2I5DRld4MndVT2R0dEk). It consists of a \"Date\" column and an \"X\" column of floats or integers. Dates are entered using [ISO 8601](https://en.wikipedia.org/wiki/ISO_8601) date format (yyyy-mm-dd)."
   ]
  },
  {
   "cell_type": "markdown",
   "metadata": {},
   "source": [
    "# Methodology\n",
    "\n",
    "The first charts presented here are the individual and moving range control charts, also called XmR or ImR. The data are collected using rational samples. The individual values (sample size is one) are plotted in time order, a central line (average) is plotted, and control limits above and below the central line are plotted.\n"
   ]
  },
  {
   "cell_type": "code",
   "execution_count": null,
   "metadata": {
    "collapsed": true
   },
   "outputs": [],
   "source": [
    "# Import the required libraries and modules.\n",
    "import pandas as pd\n",
    "\n",
    "%matplotlib inline\n",
    "%config InlineBackend.figure_format = 'svg'"
   ]
  },
  {
   "cell_type": "code",
   "execution_count": null,
   "metadata": {
    "collapsed": true
   },
   "outputs": [],
   "source": [
    "# Read the csv data file. It is encoded in UTF-8.\n",
    "# The values to plot are in column X.\n",
    "# Set \"date\" as the index.\n",
    "chart_data = pd.read_csv('xmr.csv', parse_dates=True, index_col='Date')"
   ]
  },
  {
   "cell_type": "code",
   "execution_count": null,
   "metadata": {
    "collapsed": true
   },
   "outputs": [],
   "source": [
    "# Define for the X chart the graph title and subtitle, and the x and y axis labels.\n",
    "x_chart_title = 'X Control Chart'\n",
    "x_chart_subtitle = 'Travel Cost'\n",
    "x_chart_ylabel = 'Travel Cost (USD)'\n",
    "x_chart_xlabel = 'Date'\n",
    "d_two = 1.128\n",
    "d_three = 0.8525\n",
    "number_months = 8"
   ]
  },
  {
   "cell_type": "code",
   "execution_count": null,
   "metadata": {
    "collapsed": true
   },
   "outputs": [],
   "source": [
    "# Define for the mR chart the graph title and subtitle, and the x and y axis labels.\n",
    "mr_chart_title = 'mR Control Chart'\n",
    "mr_chart_subtitle = 'Travel Cost Difference'\n",
    "mr_chart_ylabel = 'Travel Cost Moving Range (USD)'\n",
    "mr_chart_xlabel = 'Date'"
   ]
  },
  {
   "cell_type": "code",
   "execution_count": null,
   "metadata": {},
   "outputs": [],
   "source": [
    "# mR chart statistics\n",
    "# Calculate average range.\n",
    "average_moving_range = (chart_data['X'].rolling(2) \\\n",
    "                                       .agg(lambda x: x[0] - x[1]) \\\n",
    "                                       .abs()) \\\n",
    "                                       .mean()\n",
    "average_moving_range"
   ]
  },
  {
   "cell_type": "code",
   "execution_count": null,
   "metadata": {},
   "outputs": [],
   "source": [
    "# Calculate the range chart upper control limit.\n",
    "range_chart_upper_control_limit = average_moving_range + average_moving_range * 3 * \\\n",
    "                                  d_three / d_two\n",
    "range_chart_upper_control_limit"
   ]
  },
  {
   "cell_type": "code",
   "execution_count": null,
   "metadata": {},
   "outputs": [],
   "source": [
    "# Calculate the range chart lower control limit.\n",
    "range_chart_lower_control_limit = average_moving_range - average_moving_range * 3 * \\\n",
    "                                  d_three / d_two\n",
    "range_chart_lower_control_limit"
   ]
  },
  {
   "cell_type": "code",
   "execution_count": null,
   "metadata": {},
   "outputs": [],
   "source": [
    "if range_chart_lower_control_limit < 0:\n",
    "    range_chart_lower_control_limit = 0\n",
    "range_chart_lower_control_limit"
   ]
  },
  {
   "cell_type": "code",
   "execution_count": null,
   "metadata": {},
   "outputs": [],
   "source": [
    "# X chart statistics\n",
    "# Calculate a column of median values.\n",
    "# chart_data['Median'] = chart_data['X'].median()\n",
    "# Calculate the average of all values.\n",
    "average = chart_data['X'].mean()\n",
    "average"
   ]
  },
  {
   "cell_type": "code",
   "execution_count": null,
   "metadata": {},
   "outputs": [],
   "source": [
    "# Calculate the individual chart upper control limit.\n",
    "individual_chart_upper_control_limit = average + 3 * average_moving_range / d_two\n",
    "individual_chart_upper_control_limit"
   ]
  },
  {
   "cell_type": "code",
   "execution_count": null,
   "metadata": {},
   "outputs": [],
   "source": [
    "# Calculate the individual chart lower control limit.\n",
    "individual_chart_lower_control_limit = average - 3 * average_moving_range / d_two\n",
    "individual_chart_lower_control_limit"
   ]
  },
  {
   "cell_type": "code",
   "execution_count": null,
   "metadata": {},
   "outputs": [],
   "source": [
    "# Create a graph of \"individual values v. date\".\n",
    "ax = chart_data[['X']].plot.line(legend=False, marker='o', markersize=3, color='blue')\n",
    "ax.axhline(y=average, color='b')\n",
    "ax.axhline(y=individual_chart_upper_control_limit, color='r')\n",
    "ax.axhline(y=individual_chart_lower_control_limit, color='r')\n",
    "#chart_data['Monthly average'].plot.line(legend=True, ax=ax).axis('auto')\n",
    "#chart_data['Median'].plot.line(legend=True, ax=ax).axis('auto')\n",
    "#chart_data['Individual upper control limit'].plot.line(legend=False, ax=ax, \\\n",
    "#                                                       color='red').axis('auto')\n",
    "#chart_data['Individual lower control limit'].plot.line(legend=False, ax=ax, \\\n",
    "#                                                       color='red').axis('auto')\n",
    "# Remove the top and right spines.\n",
    "for spine in 'right', 'top':\n",
    "    ax.spines[spine].set_color('none')\n",
    "ax.set_title(x_chart_title + '\\n' + x_chart_subtitle)\n",
    "# Add the Y axis label.\n",
    "ax.set_ylabel(x_chart_ylabel)\n",
    "# Add the X axis label.\n",
    "ax.set_xlabel(x_chart_xlabel)\n",
    "# Save the graph as svg and pdf.\n",
    "ax.figure.savefig('x.svg', format='svg')\n",
    "ax.figure.savefig('x.pdf', format='pdf')"
   ]
  },
  {
   "cell_type": "code",
   "execution_count": null,
   "metadata": {},
   "outputs": [],
   "source": [
    "# Create a graph of \"moving range values v. date\".\n",
    "\n",
    "# Create a single subplot.\n",
    "# Plot \"moving range v. date\".\n",
    "ax = chart_data['X'].rolling(2) \\\n",
    "               .agg(lambda x: x[0] - x[1]) \\\n",
    "               .abs() \\\n",
    "               .plot.line(legend=False, marker='o', markersize=3, color='blue')\n",
    "ax.axhline(y=average_moving_range, color='b')\n",
    "ax.axhline(y=range_chart_upper_control_limit, color='r')\n",
    "ax.axhline(y=range_chart_lower_control_limit, color='r')\n",
    "# Remove the top and right spines.\n",
    "for spine in 'right', 'top':\n",
    "    ax.spines[spine].set_color('none')\n",
    "ax.set_title(mr_chart_title + '\\n' + mr_chart_subtitle)\n",
    "# Add the Y axis label.\n",
    "ax.set_ylabel(mr_chart_ylabel)\n",
    "# Add the X axis label.\n",
    "ax.set_xlabel(mr_chart_xlabel)\n",
    "# Save the graph as svg and pdf.\n",
    "ax.figure.savefig('mr.svg', format='svg')\n",
    "ax.figure.savefig('mr.pdf', format='pdf')"
   ]
  },
  {
   "cell_type": "markdown",
   "metadata": {},
   "source": [
    "# Control chart formulae"
   ]
  },
  {
   "cell_type": "markdown",
   "metadata": {},
   "source": [
    "## Individuals chart (X)"
   ]
  },
  {
   "cell_type": "markdown",
   "metadata": {},
   "source": [
    "$$\n",
    "    \\begin{align}\n",
    "        UCL_X, LCL_X & = \\overline{X} \\pm 3 \\times \\text{Sigma(X)} \\\\\n",
    "                     & = \\overline{X} \\pm 3 \\times \\frac{\\overline{R}}{d_2}\n",
    "    \\end{align}\n",
    "$$\n",
    "\n",
    "The constant $d_2$ can be found in tables of control chart constants. It is a rescaling constant that changes an average range to a standard deviation. The value of $d_2$ changes as the subgroup size n changes. It is common to use a moving range of sample size 2, and for this situation, $d_2$ = 1.128."
   ]
  },
  {
   "cell_type": "markdown",
   "metadata": {},
   "source": [
    "## Moving range chart (mR)"
   ]
  },
  {
   "cell_type": "markdown",
   "metadata": {},
   "source": [
    "$$\n",
    "    \\begin{align}\n",
    "        UCL_R, LCL_R & = \\overline{R} \\pm 3 \\times \\text{Sigma(R)} \\\\\n",
    "                     & = \\overline{R} \\pm 3 \\times d_3 \\times \\text{Sigma(X)} \\\\\n",
    "                     & = \\overline{R} \\pm 3 \\times d_3 \\times \\frac{\\overline{R}}{d_2}\n",
    "    \\end{align}\n",
    "$$\n",
    "\n",
    "The constant $d_3$ can be found in tables of control chart constants. It is a rescaling constant that changes a a standard deviation of individual values to a standard deviation of range values. The value of $d_3$ changes as the subgroup size n changes. It is common to use a moving range of sample size 2, and for this situation, $d_3$ = 0.8525."
   ]
  },
  {
   "cell_type": "markdown",
   "metadata": {},
   "source": [
    "# Descriptive statistics"
   ]
  },
  {
   "cell_type": "markdown",
   "metadata": {},
   "source": [
    "## Individual control chart"
   ]
  },
  {
   "cell_type": "code",
   "execution_count": null,
   "metadata": {},
   "outputs": [],
   "source": [
    "print('Upper control limit',\n",
    "      chart_data['Individual upper control limit'].mean(),\n",
    "      sep=' = ')\n",
    "print('Average',\n",
    "      chart_data['Average'].mean(),\n",
    "      sep=' = ')\n",
    "print('Upper control limit',\n",
    "      chart_data['Individual lower control limit'].mean(),\n",
    "      sep=' = ')"
   ]
  },
  {
   "cell_type": "markdown",
   "metadata": {},
   "source": [
    "## Moving range control chart"
   ]
  },
  {
   "cell_type": "code",
   "execution_count": null,
   "metadata": {},
   "outputs": [],
   "source": [
    "print('Upper control limit',\n",
    "      chart_data['Moving range upper control limit'].mean(),\n",
    "      sep=' = ')\n",
    "print('Moving average',\n",
    "      chart_data['Average moving range'].mean(),\n",
    "      sep=' = ')                \n",
    "print('Upper control limit',\n",
    "      chart_data['Moving range lower control limit'].mean(),\n",
    "      sep=' = ')"
   ]
  },
  {
   "cell_type": "markdown",
   "metadata": {},
   "source": [
    "# References\n",
    "\n",
    "Wheeler, Donald J. 1995. *Advanced Topics in Statistical Process Control*. Knoxville, TN: SPC Press, Inc."
   ]
  },
  {
   "cell_type": "code",
   "execution_count": null,
   "metadata": {},
   "outputs": [],
   "source": [
    "chart_data['X'].head()"
   ]
  },
  {
   "cell_type": "code",
   "execution_count": null,
   "metadata": {},
   "outputs": [],
   "source": [
    "chart_data['X'].rolling(2)"
   ]
  },
  {
   "cell_type": "code",
   "execution_count": null,
   "metadata": {
    "scrolled": false
   },
   "outputs": [],
   "source": [
    "chart_data['X'].rolling(3) \\\n",
    "               .agg(lambda x: x[0] - x[1]) \\\n",
    "               .abs()"
   ]
  },
  {
   "cell_type": "code",
   "execution_count": null,
   "metadata": {},
   "outputs": [],
   "source": [
    "df = pd.DataFrame.from_dict({'x1': [1,2,3,4,5],\n",
    "                        'x2': [3,6,32,5,2],\n",
    "                        'x3': [12, 23, 43, 11, 34]})\n",
    "df"
   ]
  },
  {
   "cell_type": "code",
   "execution_count": null,
   "metadata": {},
   "outputs": [],
   "source": [
    "df.mean(axis='columns')"
   ]
  },
  {
   "cell_type": "code",
   "execution_count": null,
   "metadata": {},
   "outputs": [],
   "source": [
    "df.max(axis='columns') - df.min(axis='columns')"
   ]
  }
 ],
 "metadata": {
  "kernelspec": {
   "display_name": "Python 3",
   "language": "python",
   "name": "python3"
  },
  "language_info": {
   "codemirror_mode": {
    "name": "ipython",
    "version": 3
   },
   "file_extension": ".py",
   "mimetype": "text/x-python",
   "name": "python",
   "nbconvert_exporter": "python",
   "pygments_lexer": "ipython3",
   "version": "3.6.2"
  }
 },
 "nbformat": 4,
 "nbformat_minor": 2
}
