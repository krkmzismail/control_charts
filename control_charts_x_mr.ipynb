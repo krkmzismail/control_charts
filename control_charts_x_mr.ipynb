{
 "cells": [
  {
   "cell_type": "markdown",
   "metadata": {},
   "source": [
    "# Controls charts&mdash;individuals and moving range (XmR)"
   ]
  },
  {
   "cell_type": "markdown",
   "metadata": {},
   "source": [
    "# Document\n",
    "\n",
    "<table align=\"left\">\n",
    "    <tr>\n",
    "        <th class=\"text-align:left\">Title</th>\n",
    "        <td class=\"text-align:left\">Control charts---individuals and moving range</td>\n",
    "    </tr>\n",
    "    <tr>\n",
    "        <th class=\"text-align:left\">Last modified</th>\n",
    "        <td class=\"text-align:left\">2019-08-08</td>\n",
    "    </tr>\n",
    "    <tr>\n",
    "        <th class=\"text-align:left\">Author</th>\n",
    "        <td class=\"text-align:left\">Gilles Pilon <gillespilon13@gmail.com></td>\n",
    "    </tr>\n",
    "    <tr>\n",
    "        <th class=\"text-align:left\">Status</th>\n",
    "        <td class=\"text-align:left\">Active</td>\n",
    "    </tr>\n",
    "    <tr>\n",
    "        <th class=\"text-align:left\">Type</th>\n",
    "        <td class=\"text-align:left\">Jupyter notebook</td>\n",
    "    </tr>\n",
    "    <tr>\n",
    "        <th class=\"text-align:left\">Created</th>\n",
    "        <td class=\"text-align:left\">2017-08-26</td>\n",
    "    </tr>\n",
    "    <tr>\n",
    "        <th class=\"text-align:left\">File name</th>\n",
    "        <td class=\"text-align:left\">control_charts_xmr.ipynb</td>\n",
    "    </tr>\n",
    "    <tr>\n",
    "        <th class=\"text-align:left\">Other files required</th>\n",
    "        <td class=\"text-align:left\">xmr.csv</td>\n",
    "    </tr>\n",
    "</table>"
   ]
  },
  {
   "cell_type": "markdown",
   "metadata": {},
   "source": [
    "# In brevi\n",
    "\n",
    "Shewhart control charts, also called process behaviour charts, are used to determine if the variation of a process is stable and predictable, that is, in a state of statistical control. In-control variation arises from chance or common causes. No changes or adjustments to the process are needed. The charts can be used to predict future performance. Out-of-control variation arises from special or assignable causes. These charts help identify the special causes in order minimize or eliminate their effect."
   ]
  },
  {
   "cell_type": "markdown",
   "metadata": {},
   "source": [
    "# Data\n",
    "\n",
    "Download the [data file](https://drive.google.com/open?id=0BzrdQfHR2I5DRld4MndVT2R0dEk). It consists of a \"Date\" column and an \"X\" column of floats or integers. Dates are entered using [ISO 8601](https://en.wikipedia.org/wiki/ISO_8601) date format (yyyy-mm-dd)."
   ]
  },
  {
   "cell_type": "markdown",
   "metadata": {},
   "source": [
    "# Methodology\n",
    "\n",
    "The charts presented here are the individuals and moving range control charts, also called XmR or ImR. The data are collected using rational samples. The individual values (sample size is one) are plotted in time order. A central line (average) and control limits above and below the central line are plotted.\n"
   ]
  },
  {
   "cell_type": "markdown",
   "metadata": {},
   "source": [
    "# Control chart formulae"
   ]
  },
  {
   "cell_type": "markdown",
   "metadata": {},
   "source": [
    "## Individuals chart (X)"
   ]
  },
  {
   "cell_type": "markdown",
   "metadata": {},
   "source": [
    "$$\n",
    "    \\begin{align}\n",
    "        UCL_X, LCL_X & = \\overline{X} \\pm 3 \\times \\text{Sigma(X)} \\\\\n",
    "                     & = \\overline{X} \\pm 3 \\times \\frac{\\overline{R}}{d_2}\n",
    "    \\end{align}\n",
    "$$\n",
    "\n",
    "The constant $d_2$ can be found in tables of control chart constants. It is a rescaling constant that changes an average range to a standard deviation. The value of $d_2$ changes as the subgroup size n changes. It is common to use a moving range subgroup size 2."
   ]
  },
  {
   "cell_type": "markdown",
   "metadata": {},
   "source": [
    "## Moving range chart (mR)"
   ]
  },
  {
   "cell_type": "markdown",
   "metadata": {},
   "source": [
    "$$\n",
    "    \\begin{align}\n",
    "        UCL_R, LCL_R & = \\overline{R} \\pm 3 \\times \\text{Sigma(R)} \\\\\n",
    "                     & = \\overline{R} \\pm 3 \\times d_3 \\times \\text{Sigma(X)} \\\\\n",
    "                     & = \\overline{R} \\pm 3 \\times d_3 \\times \\frac{\\overline{R}}{d_2}\n",
    "    \\end{align}\n",
    "$$\n",
    "\n",
    "The constant $d_3$ can be found in tables of control chart constants. It is a rescaling constant that changes a a standard deviation of individual values to a standard deviation of range values. The value of $d_3$ is a function of sugroup size."
   ]
  },
  {
   "cell_type": "code",
   "execution_count": null,
   "metadata": {},
   "outputs": [],
   "source": [
    "# Import the initial, required libraries and modules.\n",
    "import pandas as pd\n",
    "from datasense import X, mR\n",
    "%matplotlib inline\n",
    "%config InlineBackend.figure_format = 'svg'"
   ]
  },
  {
   "cell_type": "code",
   "execution_count": null,
   "metadata": {},
   "outputs": [],
   "source": [
    "# Read the csv data file. It is encoded in UTF-8.\n",
    "chart_data = pd.read_csv('xmr.csv', index_col='Sample')"
   ]
  },
  {
   "cell_type": "code",
   "execution_count": null,
   "metadata": {},
   "outputs": [],
   "source": [
    "chart_data.head()"
   ]
  },
  {
   "cell_type": "code",
   "execution_count": null,
   "metadata": {},
   "outputs": [],
   "source": [
    "# Define the X chart labels.\n",
    "x_chart_title = 'Individuals Control Chart'\n",
    "x_chart_subtitle = 'Subtitle'\n",
    "x_chart_ylabel = 'Measurement (units)'\n",
    "x_chart_xlabel = 'Sample'"
   ]
  },
  {
   "cell_type": "code",
   "execution_count": null,
   "metadata": {},
   "outputs": [],
   "source": [
    "# Define for the mR chart the graph title and subtitle, and the x and y axis labels.\n",
    "mr_chart_title = 'Moving Range Control Chart'\n",
    "mr_chart_subtitle = 'Subtitle'\n",
    "mr_chart_ylabel = 'Measurement (units)'\n",
    "mr_chart_xlabel = 'Sample'"
   ]
  },
  {
   "cell_type": "code",
   "execution_count": null,
   "metadata": {},
   "outputs": [],
   "source": [
    "# Create the X control chart.\n",
    "#X = ds.X(df[['X']], subgroup_size=3) # if other than default = 2\n",
    "x = ds.X(df[['X']]) # \n",
    "ax1 = x.ax\n",
    "ax1.set_title(x_chart_title + '\\n'+ x_chart_subtitle)\n",
    "ax1.set_ylabel(x_chart_ylabel)\n",
    "ax1.set_xlabel(x_chart_xlabel)\n",
    "ax1.figure.savefig('x.svg', format='svg')"
   ]
  },
  {
   "cell_type": "code",
   "execution_count": null,
   "metadata": {},
   "outputs": [],
   "source": [
    "# Create the mR control chart.\n",
    "mr = ds.mR(df[['X']])\n",
    "ax2 = mr.ax\n",
    "ax2.set_title(mr_chart_title + '\\n'+ mr_chart_subtitle)\n",
    "ax2.set_ylabel(mr_chart_ylabel)\n",
    "ax2.set_xlabel(mr_chart_xlabel)\n",
    "ax2.figure.savefig('mr.svg', format='svg')\n",
    "    "
   ]
  },
  {
   "cell_type": "markdown",
   "metadata": {},
   "source": [
    "# Descriptive statistics"
   ]
  },
  {
   "cell_type": "markdown",
   "metadata": {},
   "source": [
    "## Individuals control chart"
   ]
  },
  {
   "cell_type": "code",
   "execution_count": null,
   "metadata": {},
   "outputs": [],
   "source": [
    "print('d2', x._d2)\n",
    "print('sigma(X)', x.sigma)\n",
    "print('UCL', x.ucl)\n",
    "print('average', x.mean)\n",
    "print('LCL', x.lcl)"
   ]
  },
  {
   "cell_type": "markdown",
   "metadata": {},
   "source": [
    "## Moving range control chart"
   ]
  },
  {
   "cell_type": "code",
   "execution_count": null,
   "metadata": {},
   "outputs": [],
   "source": [
    "print('d2', mr._d2)\n",
    "print('d3', mr._d3)\n",
    "print('sigma(mR)', mr.sigma)\n",
    "print('UCL', mr.ucl)\n",
    "print('average', mr.mean)\n",
    "print('LCL', mr.lcl)"
   ]
  },
  {
   "cell_type": "markdown",
   "metadata": {},
   "source": [
    "# Interpretation"
   ]
  },
  {
   "cell_type": "markdown",
   "metadata": {},
   "source": [
    "## Moving range control chart\n",
    "The moving range chart measures the within-subroup variation. If the process is in statistical control (all rules met), the estimation of dispersion should be useful. This chart should be evaluated first because $\\overline{R}$ is used in the control limits of the individuals chart."
   ]
  },
  {
   "cell_type": "markdown",
   "metadata": {},
   "source": [
    "## Individuals control chart\n",
    "The individuals control chart measures the *location* of the process. Use the Shewhart detection rules in the order as follows."
   ]
  },
  {
   "cell_type": "markdown",
   "metadata": {},
   "source": [
    "### Detection rule one\n",
    "A process is out-of-control if one value is greater than the upper control limit or one value is less than the lower control limit. If there are no out-of-control values, proceed to the next rule. If there are out-of-control values, fix the root causes."
   ]
  },
  {
   "cell_type": "code",
   "execution_count": null,
   "metadata": {},
   "outputs": [],
   "source": [
    "from IPython.display import display_html"
   ]
  },
  {
   "cell_type": "code",
   "execution_count": null,
   "metadata": {},
   "outputs": [],
   "source": [
    "# All of the remaining code needs to be revised due to the changes in the datasense package.\n",
    "# And this new code will then be incorporated into datasense."
   ]
  },
  {
   "cell_type": "code",
   "execution_count": null,
   "metadata": {},
   "outputs": [],
   "source": [
    "# Find values greater than the upper control limit.\n",
    "rule_one_above = df[(df['X'] > x_chart_ucl)]\n",
    "for i in range(0, rule_one_above.shape[0], 10):\n",
    "    display_html(rule_one_above.iloc[i:i+10].T)"
   ]
  },
  {
   "cell_type": "code",
   "execution_count": null,
   "metadata": {},
   "outputs": [],
   "source": [
    "# Find values less than the lower control limit.\n",
    "rule_one_below = df[df['X'] < x_chart_lcl]\n",
    "for i in range(0, rule_one_below.shape[0], 10):\n",
    "    display_html(rule_one_below.iloc[i:i+10].T)"
   ]
  },
  {
   "cell_type": "markdown",
   "metadata": {},
   "source": [
    "### Detection rule five\n",
    "The process is out-of-control if two out-of-three consecutive values are greater than two Sigma(X) above the average or two out-of-three consecutive values less than two Sigma(X) below the average. If there are no out-of-control values, proceed to the next rule. If there are out-of-control values, fix the root causes."
   ]
  },
  {
   "cell_type": "code",
   "execution_count": null,
   "metadata": {},
   "outputs": [],
   "source": [
    "# Create a list with X above 2 sigma.\n",
    "above_two_sigma_x_list = []\n",
    "for value in df['X']:\n",
    "    if value >= plus_two_sigma_x:\n",
    "        above_two_sigma_x_list.append(1)\n",
    "    else:\n",
    "        above_two_sigma_x_list.append(0)\n",
    "# Create a column from the list.\n",
    "df['above_two_sigma_x'] = above_two_sigma_x_list\n",
    "# Display values where 2 of 3 consecutive X > 2 sigma.\n",
    "df['above_two_sigma_x_rule_5'] = df['above_two_sigma_x'].rolling(3) \\\n",
    "                                                        .sum()\n",
    "rule_five_above = df.loc[(df['above_two_sigma_x_rule_5'] >= 2)][['X']]\n",
    "for i in range(0, rule_five_above.shape[0], 10):\n",
    "    display_html(rule_five_above.iloc[i:i+10].T)"
   ]
  },
  {
   "cell_type": "code",
   "execution_count": null,
   "metadata": {},
   "outputs": [],
   "source": [
    "# Create a list with X below 2 sigma.\n",
    "below_two_sigma_x_list = []\n",
    "for value in df['X']:\n",
    "    if value <= minus_two_sigma_x:\n",
    "        below_two_sigma_x_list.append(1)\n",
    "    else:\n",
    "        below_two_sigma_x_list.append(0)\n",
    "# Create a column from the list.\n",
    "df['below_two_sigma_x'] = below_two_sigma_x_list\n",
    "# Display values where 2 of 3 consecutive X < 2 sigma.\n",
    "df['below_two_sigma_x_rule_5'] = df['below_two_sigma_x'].rolling(3) \\\n",
    "                                                        .sum()\n",
    "rule_five_below = df.loc[(df['below_two_sigma_x_rule_5'] >= 2)][['X']]\n",
    "for i in range(0, rule_five_below.shape[0], 10):\n",
    "    display_html(rule_five_below.iloc[i:i+10].T)"
   ]
  },
  {
   "cell_type": "code",
   "execution_count": null,
   "metadata": {},
   "outputs": [],
   "source": [
    "chart_data = df.drop(['above_two_sigma_x', \n",
    "                      'above_two_sigma_x_rule_5', \n",
    "                      'below_two_sigma_x',\n",
    "                      'below_two_sigma_x_rule_5'\n",
    "                     ], axis=1)"
   ]
  },
  {
   "cell_type": "markdown",
   "metadata": {},
   "source": [
    "### Detection rule six\n",
    "A process is out-of-control if four out-of-five consecutive values are greater than one Sigma(X) above the average or four out-of-five consecutive values are less than one Sigma(X) below the average.  If there are no out-of-control values, proceed to the next rule. If there are out-of-control values, fix the root causes."
   ]
  },
  {
   "cell_type": "code",
   "execution_count": null,
   "metadata": {},
   "outputs": [],
   "source": [
    "# Create a list with X above 1 sigma.\n",
    "above_one_sigma_x_list = []\n",
    "for value in df['X']:\n",
    "    if value >= plus_one_sigma_x:\n",
    "        above_one_sigma_x_list.append(1)\n",
    "    else:\n",
    "        above_one_sigma_x_list.append(0)\n",
    "# Create a column from the list.\n",
    "df['above_one_sigma_x'] = above_one_sigma_x_list\n",
    "# Display values where 4 of 5 consecutive X > 1 sigma.\n",
    "df['above_one_sigma_x_rule_6'] = df['above_one_sigma_x'].rolling(5) \\\n",
    "                                                        .sum()\n",
    "rule_six_above = df.loc[(df['above_one_sigma_x_rule_6'] >= 4)][['X']]\n",
    "for i in range(0, rule_six_above.shape[0], 10):\n",
    "    display_html(rule_six_above.iloc[i:i+10].T)"
   ]
  },
  {
   "cell_type": "code",
   "execution_count": null,
   "metadata": {},
   "outputs": [],
   "source": [
    "# Create a list with X below 1 sigma.\n",
    "below_one_sigma_x_list = []\n",
    "for value in df['X']:\n",
    "    if value <= minus_one_sigma_x:\n",
    "        below_one_sigma_x_list.append(1)\n",
    "    else:\n",
    "        below_one_sigma_x_list.append(0)\n",
    "# Create a column from the list.\n",
    "df['below_one_sigma_x'] = below_one_sigma_x_list\n",
    "# Display values where 4 of 5 consecutive X < 1 sigma.\n",
    "df['below_one_sigma_x_rule_6'] = df['below_one_sigma_x'].rolling(5) \\\n",
    "                                                        .sum()\n",
    "rule_six_below = df.loc[(df['below_one_sigma_x_rule_6'] >= 4)][['X']]\n",
    "for i in range(0, rule_six_below.shape[0], 10):\n",
    "    display_html(rule_six_below.iloc[i:i+10].T)"
   ]
  },
  {
   "cell_type": "code",
   "execution_count": null,
   "metadata": {},
   "outputs": [],
   "source": [
    "chart_data = df.drop(['above_one_sigma_x', \n",
    "                      'above_one_sigma_x_rule_6', \n",
    "                      'below_one_sigma_x',\n",
    "                      'below_one_sigma_x_rule_6'\n",
    "                     ], axis=1)"
   ]
  },
  {
   "cell_type": "markdown",
   "metadata": {},
   "source": [
    " ### Detection rule two\n",
    " A process is out-of-control if eight or more consecutive values are on the same side of the average or eight or more consecutive values are on the same side of the average. If there are no out-of-control values, proceed to the next rule. If there are out-of-control values, fix the root causes."
   ]
  },
  {
   "cell_type": "code",
   "execution_count": null,
   "metadata": {},
   "outputs": [],
   "source": [
    "# Create a list with X above the average for eight or more consecutive values.\n",
    "above_average_x_list = []\n",
    "for value in df['X']:\n",
    "    if value > average:\n",
    "        above_average_x_list.append(1)\n",
    "    else:\n",
    "        above_average_x_list.append(0)\n",
    "# Create a column from the list.\n",
    "df['above_average_x'] = above_average_x_list\n",
    "# Display values where 8 consecutive X > average.\n",
    "df['above_average_x_rule_2'] = df['above_average_x'].rolling(8) \\\n",
    "                                                    .sum()\n",
    "rule_two_above = df.loc[(df['above_average_x_rule_2'] >= 8)][['X']]\n",
    "for i in range(0, rule_two_above.shape[0], 10):\n",
    "    display_html(rule_two_above.iloc[i:i+10].T)"
   ]
  },
  {
   "cell_type": "code",
   "execution_count": null,
   "metadata": {},
   "outputs": [],
   "source": [
    "# Create a list with X below the average for eight or more consecutive values.\n",
    "below_average_x_list = []\n",
    "for value in df['X']:\n",
    "    if value < average:\n",
    "        below_average_x_list.append(1)\n",
    "    else:\n",
    "        below_average_x_list.append(0)\n",
    "# Create a column from the list.\n",
    "df['below_average_x'] = below_average_x_list\n",
    "# Display values where 8 consecutive X < average.\n",
    "df['below_average_x_rule_2'] = df['below_average_x'].rolling(8) \\\n",
    "                                                    .sum()\n",
    "rule_two_below = df.loc[(df['below_average_x_rule_2'] >= 8)][['X']]\n",
    "for i in range(0, rule_two_below.shape[0], 10):\n",
    "    display_html(rule_two_below.iloc[i:i+10].T)"
   ]
  },
  {
   "cell_type": "code",
   "execution_count": null,
   "metadata": {},
   "outputs": [],
   "source": [
    "chart_data = df.drop(['above_average_x', \n",
    "                      'above_average_x_rule_2', \n",
    "                      'below_average_x',\n",
    "                      'below_average_x_rule_2'\n",
    "                     ], axis=1)"
   ]
  },
  {
   "cell_type": "markdown",
   "metadata": {},
   "source": [
    "### Detection rule three\n",
    "Variation is unpredictable when six consecutive values are increasing or decreasing."
   ]
  },
  {
   "cell_type": "code",
   "execution_count": null,
   "metadata": {},
   "outputs": [],
   "source": [
    "rule_3_list_1 = []\n",
    "for value in df['X']:\n",
    "    rule_3_list_1 = df['X'].rolling(2) \\\n",
    "                           .agg(lambda x: x[0] - x[1])\n",
    "df['rule_3_list_1'] = rule_3_list_1\n",
    "rule_3_list_2 = []\n",
    "for value in df['rule_3_list_1']:\n",
    "    if value > 0:\n",
    "        rule_3_list_2.append(1)\n",
    "    else:\n",
    "        rule_3_list_2.append(0)\n",
    "df['rule_3_list_2'] = rule_3_list_2\n",
    "rule_three_above = df.loc[(df['rule_3_list_2'] >= 6)][['X']]\n",
    "for i in range(0, rule_three_above.shape[0], 10):\n",
    "    display_html(rule_three_above.iloc[i:i+10].T)"
   ]
  },
  {
   "cell_type": "code",
   "execution_count": null,
   "metadata": {},
   "outputs": [],
   "source": [
    "rule_3_list_3 = []\n",
    "for value in df['rule_3_list_1']:\n",
    "    if value < 0:\n",
    "        rule_3_list_3.append(1)\n",
    "    else:\n",
    "        rule_3_list_3.append(0)\n",
    "df['rule_3_list_3'] = rule_3_list_3\n",
    "rule_three_below = df.loc[(df['rule_3_list_3'] >= 6)][['X']]\n",
    "for i in range(0, rule_three_below.shape[0], 10):\n",
    "    display_html(rule_three_below.iloc[i:i+10].T)"
   ]
  },
  {
   "cell_type": "code",
   "execution_count": null,
   "metadata": {},
   "outputs": [],
   "source": [
    "chart_data = df.drop(['rule_3_list_1', \n",
    "                      'rule_3_list_2', \n",
    "                      'rule_3_list_3'\n",
    "                     ], axis=1)"
   ]
  },
  {
   "cell_type": "markdown",
   "metadata": {},
   "source": [
    "### Detection rule four\n",
    "Variation is unpredictable when fourteen consecutive values alternate up and down."
   ]
  },
  {
   "cell_type": "code",
   "execution_count": null,
   "metadata": {},
   "outputs": [],
   "source": [
    "# Create a list with X alternating up and down for 14 or more\n",
    "# consecutive values.\n",
    "rule_4_list_1 = []\n",
    "for value in df['X']:\n",
    "    rule_4_list_1 = df['X'].rolling(2)\\\n",
    "                           .agg(lambda x: x[0] - x[1])\n",
    "df['rule_4_list_1'] = rule_4_list_1\n",
    "rule_4_list_2 = []\n",
    "for value in df['rule_4_list_1']:\n",
    "    if value > 0:\n",
    "        rule_4_list_2.append(1)\n",
    "    else:\n",
    "        rule_4_list_2.append(0)\n",
    "df['rule_4_list_2']= rule_4_list_2\n",
    "rule_4_list_3 =[]\n",
    "for value in df['rule_4_list_1']:\n",
    "    if value < 0:\n",
    "        rule_4_list_3.append(1)\n",
    "    else:\n",
    "        rule_4_list_3.append(0)\n",
    "df['rule_4_list_3'] = rule_4_list_3\n",
    "df['rule_4_list_4']= df[['rule_4_list_2', 'rule_4_list_3']].sum(axis='columns')"
   ]
  },
  {
   "cell_type": "code",
   "execution_count": null,
   "metadata": {},
   "outputs": [],
   "source": [
    "df.head(10)"
   ]
  },
  {
   "cell_type": "code",
   "execution_count": null,
   "metadata": {},
   "outputs": [],
   "source": [
    "# My logic above isn't right, but close."
   ]
  },
  {
   "cell_type": "code",
   "execution_count": null,
   "metadata": {},
   "outputs": [],
   "source": [
    "# Display values where 14 or more consecutive values alternate\n",
    "# up and down.\n",
    "df['rule_4_list_5'] = df['rule_4_list_4'].rolling(14) \\\n",
    "                                         .sum()\n",
    "rule_four = df.loc[(df['rule_4_list_5'] >= 14)][['X']]\n",
    "for i in range(0, rule_four.shape[0], 10):\n",
    "    display_html(rule_four.iloc[i:i+10].T)"
   ]
  },
  {
   "cell_type": "code",
   "execution_count": null,
   "metadata": {},
   "outputs": [],
   "source": [
    "chart_data = df.drop(['rule_4_list_1',\n",
    "                      'rule_4_list_2',\n",
    "                      'rule_4_list_3',\n",
    "                      'rule_4_list_4',\n",
    "                      'rule_4_list_5'\n",
    "                     ], axis=1)"
   ]
  },
  {
   "cell_type": "markdown",
   "metadata": {},
   "source": [
    "### Detection rule seven\n",
    "Variation is unpredictable when fifteen consecutive values are between $\\pm$ one Sigma(X)."
   ]
  },
  {
   "cell_type": "code",
   "execution_count": null,
   "metadata": {},
   "outputs": [],
   "source": [
    "# Create a list with X within one Sigma(X) of the average.\n",
    "within_one_sigma_x_list = []\n",
    "for value in df['X']:\n",
    "    if value <= plus_one_sigma_x <= minus_one_sigma_x:\n",
    "        within_one_sigma_x_list.append(1)\n",
    "    else:\n",
    "        within_one_sigma_x_list.append(0)\n",
    "# Create a column from the list.\n",
    "df['within_one_sigma_x'] = within_one_sigma_x_list\n",
    "# Display values where 15 consecutive values are within one Sigma(X)\n",
    "# of the average.\n",
    "rule_seven = df.loc[(df['within_one_sigma_x'] >= 15)][['X']]\n",
    "for i in range(0, rule_seven.shape[0], 10):\n",
    "    display_html(rule_seven.iloc[i:i+10].T)"
   ]
  },
  {
   "cell_type": "code",
   "execution_count": null,
   "metadata": {},
   "outputs": [],
   "source": [
    "chart_data = df.drop(['within_one_sigma_x'], axis=1)"
   ]
  },
  {
   "cell_type": "markdown",
   "metadata": {},
   "source": [
    "### Detection rule eight\n",
    "Variation is unpredictable when eight consecutive values are on both sides of the average with none between $\\pm$ one Sigma(X)."
   ]
  },
  {
   "cell_type": "code",
   "execution_count": null,
   "metadata": {},
   "outputs": [],
   "source": [
    "# Create a list with X beyond one Sigma(X).\n",
    "beyond_one_sigma_x_list = []\n",
    "for value in df['X']:\n",
    "    if value >= plus_one_sigma_x or value <= minus_one_sigma_x:\n",
    "        beyond_one_sigma_x_list.append(1)\n",
    "    else:\n",
    "        beyond_one_sigma_x_list.append(0)\n",
    "# Create a column from the list.\n",
    "df['beyond_one_sigma_x'] = beyond_one_sigma_x_list\n",
    "# Display values where 8 consecutive values are on both sides\n",
    "# of the average with none within one Sigma(X) of the average.\n",
    "rule_eight = df.loc[(df['beyond_one_sigma_x'] >= 8)][['X']]\n",
    "for i in range(0, rule_eight.shape[0], 10):\n",
    "    display_html(rule_eight.iloc[i:i+10].T)"
   ]
  },
  {
   "cell_type": "code",
   "execution_count": null,
   "metadata": {},
   "outputs": [],
   "source": [
    "chart_data = df.drop(['beyond_one_sigma_x'], axis=1)"
   ]
  },
  {
   "cell_type": "markdown",
   "metadata": {},
   "source": [
    "#  Development\n",
    "- Add rules to the moving range control chart\n",
    "- Add code to rule four\n",
    "- Find (NIST?) data sets for each rule and test"
   ]
  },
  {
   "cell_type": "markdown",
   "metadata": {},
   "source": [
    "# References\n",
    "\n",
    "Wheeler, Donald J. 1995. *Advanced Topics in Statistical Process Control*. Knoxville, TN: SPC Press, Inc."
   ]
  }
 ],
 "metadata": {
  "kernelspec": {
   "display_name": "Python 3",
   "language": "python",
   "name": "python3"
  },
  "language_info": {
   "codemirror_mode": {
    "name": "ipython",
    "version": 3
   },
   "file_extension": ".py",
   "mimetype": "text/x-python",
   "name": "python",
   "nbconvert_exporter": "python",
   "pygments_lexer": "ipython3",
   "version": "3.7.4"
  }
 },
 "nbformat": 4,
 "nbformat_minor": 2
}
