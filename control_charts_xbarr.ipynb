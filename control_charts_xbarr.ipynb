{
 "cells": [
  {
   "cell_type": "markdown",
   "metadata": {},
   "source": [
    "# Controls charts—average and range (XbarR)¶"
   ]
  },
  {
   "cell_type": "markdown",
   "metadata": {},
   "source": [
    "# In brevi\n",
    "Shewhart control charts, also called process behaviour charts, are used to determine if the variation of a process is stable and predictable, that is, in a state of statistical control. In-control variation arises from chance or common causes. No changes or adjustments to the process are needed. The chart can be used to predict future performance. Out-of-control variation arises from special or assignable causes. These charts help identify the special causes in order minimize or eliminate their effect."
   ]
  },
  {
   "cell_type": "markdown",
   "metadata": {},
   "source": [
    "# Data\n",
    "\n",
    "Download the [data file](https://drive.google.com/open?id=0BzrdQfHR2I5DdWpLOC1DSWltVzA). It consists of a \"Sample\" column and several \"Xi\" columns of floats or integers."
   ]
  },
  {
   "cell_type": "markdown",
   "metadata": {},
   "source": [
    "# Methodology\n",
    "The charts presented here are the average and range control charts, XbarR. The data are collected using rational samples. The average values of each subgroup sample are plotted in time order. A central line (average) and control limits above and below the central line are plotted."
   ]
  },
  {
   "cell_type": "code",
   "execution_count": 1,
   "metadata": {
    "collapsed": true
   },
   "outputs": [],
   "source": [
    "# Import the required libraries and modules.\n",
    "import pandas as pd\n",
    "\n",
    "%matplotlib inline\n",
    "%config InlineBackend.figure_format = 'svg'"
   ]
  },
  {
   "cell_type": "code",
   "execution_count": 2,
   "metadata": {},
   "outputs": [],
   "source": [
    "# Read the csv data file. It is encoded in UTF-8.\n",
    "# The values to plot are in column X.\n",
    "# Set \"date\" as the index.\n",
    "#chart_data = pd.read_csv('xbarr.csv', parse_dates=True, index_col='Date')\n",
    "chart_data = pd.read_csv('xbarr.csv', index_col='Sample')"
   ]
  },
  {
   "cell_type": "code",
   "execution_count": 3,
   "metadata": {
    "collapsed": true
   },
   "outputs": [],
   "source": [
    "# Define for the Xbar chart the graph title and subtitle, and the x and y axis labels.\n",
    "x_chart_title = 'Xbar Control Chart'\n",
    "x_chart_subtitle = 'Thickness'\n",
    "x_chart_ylabel = 'Thickness (mm)'\n",
    "x_chart_xlabel = 'Sample'\n",
    "d_two = 2.059\n",
    "d_three = 0.8798\n",
    "subgroup_size = 4"
   ]
  },
  {
   "cell_type": "code",
   "execution_count": 4,
   "metadata": {
    "collapsed": true
   },
   "outputs": [],
   "source": [
    "# Define for the R chart the graph title and subtitle, and the x and y axis labels.\n",
    "mr_chart_title = 'R Control Chart'\n",
    "mr_chart_subtitle = 'Thickness Range'\n",
    "mr_chart_ylabel = 'Thickness Range (mm)'\n",
    "mr_chart_xlabel = 'Sample'"
   ]
  },
  {
   "cell_type": "code",
   "execution_count": 5,
   "metadata": {},
   "outputs": [
    {
     "data": {
      "text/plain": [
       "0.044833333333333315"
      ]
     },
     "execution_count": 5,
     "metadata": {},
     "output_type": "execute_result"
    }
   ],
   "source": [
    "# R chart statistics\n",
    "# Calculate average range\n",
    "average_range = (chart_data.max(axis='columns') - chart_data.min(axis='columns')).mean()\n",
    "average_range"
   ]
  },
  {
   "cell_type": "code",
   "execution_count": 6,
   "metadata": {},
   "outputs": [
    {
     "data": {
      "text/plain": [
       "0.10230448437752951"
      ]
     },
     "execution_count": 6,
     "metadata": {},
     "output_type": "execute_result"
    }
   ],
   "source": [
    "# Calculate the range chart upper control limit.\n",
    "range_upper_control_limit = average_range + 3 * d_three * average_range / d_two\n",
    "range_upper_control_limit"
   ]
  },
  {
   "cell_type": "code",
   "execution_count": 7,
   "metadata": {},
   "outputs": [
    {
     "data": {
      "text/plain": [
       "-0.012637817710862871"
      ]
     },
     "execution_count": 7,
     "metadata": {},
     "output_type": "execute_result"
    }
   ],
   "source": [
    "# Calculate the range chart lower control limit.\n",
    "range_chart_upper_control_limit = average_range - 3 * d_three * average_range / d_two\n",
    "range_chart_upper_control_limit"
   ]
  },
  {
   "cell_type": "code",
   "execution_count": 8,
   "metadata": {},
   "outputs": [
    {
     "data": {
      "text/plain": [
       "0"
      ]
     },
     "execution_count": 8,
     "metadata": {},
     "output_type": "execute_result"
    }
   ],
   "source": [
    "# Set the moving range lower control limit to 0 if it is < 0.\n",
    "if range_chart_upper_control_limit < 0:\n",
    "    range_chart_upper_control_limit = 0\n",
    "range_chart_upper_control_limit"
   ]
  },
  {
   "cell_type": "code",
   "execution_count": 9,
   "metadata": {},
   "outputs": [
    {
     "data": {
      "text/plain": [
       "0.54256249999999995"
      ]
     },
     "execution_count": 9,
     "metadata": {},
     "output_type": "execute_result"
    }
   ],
   "source": [
    "# Xbar chart statistics\n",
    "# Calculate average of averages.\n",
    "average_of_averages = (chart_data.mean(axis='columns')).mean()\n",
    "average_of_averages"
   ]
  },
  {
   "cell_type": "code",
   "execution_count": 10,
   "metadata": {},
   "outputs": [
    {
     "data": {
      "text/plain": [
       "0.57522398615832926"
      ]
     },
     "execution_count": 10,
     "metadata": {},
     "output_type": "execute_result"
    }
   ],
   "source": [
    "# Calculate the averages chart upper control limit.\n",
    "average_chart_upper_control_limit = average_of_averages + 3 * average_range / \\\n",
    "                              (d_two * (subgroup_size)**0.5)\n",
    "average_chart_upper_control_limit"
   ]
  },
  {
   "cell_type": "code",
   "execution_count": 11,
   "metadata": {},
   "outputs": [
    {
     "data": {
      "text/plain": [
       "0.50990101384167064"
      ]
     },
     "execution_count": 11,
     "metadata": {},
     "output_type": "execute_result"
    }
   ],
   "source": [
    "# Calculate the averages chart lower control limit.\n",
    "average_chart_lower_control_limit = average_of_averages - 3 * average_range / \\\n",
    "                              (d_two * (subgroup_size)**0.5)\n",
    "average_chart_lower_control_limit"
   ]
  },
  {
   "cell_type": "markdown",
   "metadata": {},
   "source": [
    "# Control chart formulae"
   ]
  },
  {
   "cell_type": "markdown",
   "metadata": {},
   "source": [
    "## Average chart (X)"
   ]
  },
  {
   "cell_type": "markdown",
   "metadata": {},
   "source": [
    "$$\n",
    "    \\begin{align}\n",
    "        UCL_\\overline{X}, LCL_\\overline{X} & = \\overline{\\overline{X}} \\pm 3 \\times \\text{Sigma(}\\overline{X}\\text{)} \\\\\n",
    "                     & = \\overline{\\overline{X}} \\pm 3 \\times \\frac{\\text{Sigma(X) }}{\\sqrt{n}} \\\\\n",
    "                     & = \\overline{\\overline{X}} \\pm \\frac{3 \\text{ }\\overline{R}}{d_2 \\sqrt{n}}\n",
    "    \\end{align}\n",
    "$$\n",
    "\n",
    "The constant $d_2$ can be found in tables of control chart constants.It is a rescaling constant that changes an average range to a standard deviation. The value of $d_2$ is a function of the subgroup size $n$."
   ]
  },
  {
   "cell_type": "markdown",
   "metadata": {},
   "source": [
    "## Range chart (R)"
   ]
  },
  {
   "cell_type": "markdown",
   "metadata": {},
   "source": [
    "$$\n",
    "    \\begin{align}\n",
    "        UCL_R, LCL_R & = \\overline{R} \\pm 3 \\times \\text{Sigma(R)} \\\\\n",
    "                     & = \\overline{R} \\pm 3 \\times d_3 \\times \\text{Sigma(X)} \\\\\n",
    "                     & = \\overline{R} \\pm 3 \\times d_3 \\times \\frac{\\overline{R}}{d_2}\n",
    "    \\end{align}\n",
    "$$\n",
    "\n",
    "The constant $d_3$ can be found in tables of control chart constants. It is a rescaling constant that changes a a standard deviation of individual values to a standard deviation of range values. The value of $d_3$ is a function of subgroup size."
   ]
  }
 ],
 "metadata": {
  "kernelspec": {
   "display_name": "Python 3",
   "language": "python",
   "name": "python3"
  },
  "language_info": {
   "codemirror_mode": {
    "name": "ipython",
    "version": 3
   },
   "file_extension": ".py",
   "mimetype": "text/x-python",
   "name": "python",
   "nbconvert_exporter": "python",
   "pygments_lexer": "ipython3",
   "version": "3.6.2"
  }
 },
 "nbformat": 4,
 "nbformat_minor": 2
}
