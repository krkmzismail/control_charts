{
 "cells": [
  {
   "cell_type": "markdown",
   "metadata": {},
   "source": [
    "# Controls charts—average and range (XbarR)¶"
   ]
  },
  {
   "cell_type": "markdown",
   "metadata": {},
   "source": [
    "# In brevi\n",
    "Shewhart control charts, also called process behaviour charts, are used to determine if the variation of a process is stable and predictable, that is, in a state of statistical control. In-control variation arises from chance or common causes. No changes or adjustments to the process are needed. The chart can be used to predict future performance. Out-of-control variation arises from special or assignable causes. These charts help identify the special causes in order minimize or eliminate their effect."
   ]
  },
  {
   "cell_type": "markdown",
   "metadata": {},
   "source": [
    "# Data\n",
    "\n",
    "Download the [data file](https://drive.google.com/open?id=0BzrdQfHR2I5DdWpLOC1DSWltVzA). It consists of a \"Sample\" column and several \"Xi\" columns of floats or integers."
   ]
  },
  {
   "cell_type": "markdown",
   "metadata": {},
   "source": [
    "# Methodology\n",
    "The charts presented here are the average and range control charts, XbarR. The data are collected using rational samples. The average values of each subgroup sample are plotted in time order. A central line (average) and control limits above and below the central line are plotted."
   ]
  },
  {
   "cell_type": "markdown",
   "metadata": {},
   "source": [
    "# Control chart formulae"
   ]
  },
  {
   "cell_type": "markdown",
   "metadata": {},
   "source": [
    "## Average chart (X)"
   ]
  },
  {
   "cell_type": "markdown",
   "metadata": {},
   "source": [
    "$$\n",
    "    \\begin{align}\n",
    "        UCL_\\overline{X}, LCL_\\overline{X} & = \\overline{\\overline{X}} \\pm 3 \\times \\text{Sigma(}\\overline{X}\\text{)} \\\\\n",
    "                     & = \\overline{\\overline{X}} \\pm 3 \\times \\frac{\\text{Sigma(X) }}{\\sqrt{n}} \\\\\n",
    "                     & = \\overline{\\overline{X}} \\pm \\frac{3 \\text{ }\\overline{R}}{d_2 \\sqrt{n}}\n",
    "    \\end{align}\n",
    "$$\n",
    "\n",
    "The constant $d_2$ can be found in tables of control chart constants.It is a rescaling constant that changes an average range to a standard deviation. The value of $d_2$ is a function of the subgroup size $n$."
   ]
  },
  {
   "cell_type": "markdown",
   "metadata": {},
   "source": [
    "## Range chart (R)"
   ]
  },
  {
   "cell_type": "markdown",
   "metadata": {},
   "source": [
    "$$\n",
    "    \\begin{align}\n",
    "        UCL_R, LCL_R & = \\overline{R} \\pm 3 \\times \\text{Sigma(R)} \\\\\n",
    "                     & = \\overline{R} \\pm 3 \\times d_3 \\times \\text{Sigma(X)} \\\\\n",
    "                     & = \\overline{R} \\pm 3 \\times d_3 \\times \\frac{\\overline{R}}{d_2}\n",
    "    \\end{align}\n",
    "$$\n",
    "\n",
    "The constant $d_3$ can be found in tables of control chart constants. It is a rescaling constant that changes a a standard deviation of individual values to a standard deviation of range values. The value of $d_3$ is a function of subgroup size."
   ]
  }
 ],
 "metadata": {
  "kernelspec": {
   "display_name": "Python 3",
   "language": "python",
   "name": "python3"
  },
  "language_info": {
   "codemirror_mode": {
    "name": "ipython",
    "version": 3
   },
   "file_extension": ".py",
   "mimetype": "text/x-python",
   "name": "python",
   "nbconvert_exporter": "python",
   "pygments_lexer": "ipython3",
   "version": "3.6.2"
  }
 },
 "nbformat": 4,
 "nbformat_minor": 2
}
